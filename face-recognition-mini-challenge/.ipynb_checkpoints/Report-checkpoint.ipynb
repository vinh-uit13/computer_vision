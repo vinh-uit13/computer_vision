{
 "cells": [
  {
   "cell_type": "markdown",
   "metadata": {},
   "source": [
    "# 1. Giới thiệu bài toán\n",
    "Bài toán: Nhận diện gương mặt của các sinh viên trong lớp học. Với khoảng 23 nhân vật, mỗi người có 2 - 3 ảnh.\n",
    "Input: Ảnh gương mặt của 1 người.\n",
    "Ouput: Label của gương mặt đó.\n",
    "Dataset: \n",
    "    - 23 người. Với mỗi người có 1-3 guơng mặt.\n",
    "    - Các faces đã được cropped, do đó Face Detection (MTCNN) bỏ qua.\n",
    "    - Do data khá ít, không đủ để  đánh giá. Do đó trong bài toán này, ta thực hiện thêm bước Data Augmentation nhằm làm tăng sự đa dạng của các ảnh -> Sử dụng lib python (imgaug) thực hiện flipping, cropping, transformation, add noise, Gaussian Blur ...\n",
    "    - 70% train, 30% test.\n",
    "    - Total images of dataset: 280 images.\n",
    "Library & language:\n",
    "    - Python\n",
    "    - Keras\n",
    "    - OpenCV\n",
    "    - Scikit Learn\n"
   ]
  },
  {
   "cell_type": "markdown",
   "metadata": {},
   "source": [
    "# 2. Ý tưởng và phương pháp\n",
    "Từ tập dataset, ta sẽ rút trich các feature của gương mặt bằng việc sử dụng deep feature (VGG16, VGG19).\n",
    "\n",
    "<img src=\"https://neurohive.io/wp-content/uploads/2018/11/vgg16.png\">\n",
    "\n",
    "<img src=\"https://cdn-images-1.medium.com/max/1600/1*cufAO77aeSWdShs3ba5ndg.jpeg\">\n",
    "\n",
    "Deep feature được rút trích FC6 (lớp kế cuối) dimension 4096, ta sẽ dùng các method classifiers như SVM, KNN.\n",
    "\n",
    "SVM: Tìm đường để classify các class\n",
    "<img src=\"https://cdn-images-1.medium.com/max/1600/1*nUpw5agP-Vefm4Uinteq-A.png\">\n",
    "\n",
    "K nearest neighbor: sẽ chọn ra k data point để quyết định xem data đó thuộc vào label nào.\n",
    "<img src=\"http://res.cloudinary.com/dyd911kmh/image/upload/f_auto,q_auto:best/v1531424125/KNN_final1_ibdm8a.png\">\n",
    "\n",
    "Ngoài ra ta cần bổ sung thêm data (Data Augmentation) bằng các phép biến đổi (Affine, Gaussian Blur, Add Noise, Transoformation, Flipping ...)\n",
    "\n",
    "<img src=\"https://raw.githubusercontent.com/aleju/imgaug-doc/master/readme_images/examples_grid.jpg\">\n",
    "\n",
    "Sau khi prepare dataset, ta sẽ rút trích deep feature và đưa vào các model classifier để predict face thuộc label nào. Bước cuối cùng ta sẽ đánh giá kết quả. Vì data khá ít, nên trong bài toán này ta sẽ sử dụng SVM và KNN để  classify.\n",
    "\n",
    "<img src=\"https://cdn-images-1.medium.com/max/1200/1*mIEg0YdM_lt4Gp4455kaQQ.png\">\n",
    "\n",
    "\n"
   ]
  },
  {
   "cell_type": "markdown",
   "metadata": {},
   "source": [
    "# 3. Main Source Code\n"
   ]
  },
  {
   "cell_type": "markdown",
   "metadata": {},
   "source": [
    "Define các library và model cần thiết"
   ]
  },
  {
   "cell_type": "code",
   "execution_count": null,
   "metadata": {
    "collapsed": true
   },
   "outputs": [],
   "source": [
    "from keras.applications.vgg16 import VGG16\n",
    "from keras.applications.vgg19 import VGG19\n",
    "from keras.preprocessing import image\n",
    "from keras.applications.vgg16 import preprocess_input\n",
    "from keras.models import Model\n",
    "from sklearn.neighbors import KNeighborsClassifier\n",
    "from sklearn.metrics.pairwise import chi2_kernel\n",
    "from sklearn.svm import SVC\n",
    "from sklearn.metrics import classification_report\n",
    "from sklearn.model_selection import train_test_split\n",
    "from sklearn import svm\n",
    "from confusion_matrix import plot_confusion_matrix, call_plt\n",
    "import pickle\n",
    "import cv2\n",
    "import numpy as np\n",
    "import os\n",
    "\n",
    "modelVGG16 = VGG16(weights='imagenet', include_top=True)\n",
    "modelVGG16 = Model(input=modelVGG16.input, output=modelVGG16.get_layer('fc2').output)\n",
    "\n",
    "modelVGG19 = VGG19(weights='imagenet', include_top=True)\n",
    "modelVGG19 = Model(input=modelVGG19.input, output=modelVGG19.get_layer('fc2').output)\n",
    "\n",
    "from imgaug import augmenters as iaa\n",
    "\n"
   ]
  },
  {
   "cell_type": "markdown",
   "metadata": {},
   "source": [
    "Function support for data augmentation."
   ]
  },
  {
   "cell_type": "code",
   "execution_count": null,
   "metadata": {
    "collapsed": true
   },
   "outputs": [],
   "source": [
    "def image_augmentor(img, name_img):\n",
    "    seqs = [\n",
    "        iaa.Sequential([\n",
    "            iaa.SaltAndPepper(p=0.03),\n",
    "        ]),\n",
    "        iaa.Sequential([\n",
    "            iaa.Invert(0.1, per_channel=True),\n",
    "            iaa.GaussianBlur(sigma=(0,2.0))\n",
    "        ]),\n",
    "        iaa.Sequential([\n",
    "            iaa.Fliplr(0.5), \n",
    "            iaa.Invert(0.05, per_channel=True),\n",
    "            iaa.GaussianBlur(sigma=(0,3.0)) \n",
    "        ]),\n",
    "        iaa.Sequential([\n",
    "            iaa.MotionBlur(k=5)\n",
    "        ])\n",
    "    ]\n",
    "    step = 0\n",
    "    for seq in seqs:\n",
    "        images_aug = seq.augment_images(img)            \n",
    "        imgPath = name_img + '_aug_' + str(step) + '.jpg'\n",
    "        cv2.imwrite(imgPath, images_aug)\n",
    "        step += 1\n",
    "\n",
    "def data_augmentation(dataset):\n",
    "    listName = os.listdir(dataset)\n",
    "    for name in listName:\n",
    "        imgList = os.listdir(os.path.join(dataset, name))\n",
    "        print ('This is name: ', name)\n",
    "        for imgName in imgList:\n",
    "            path = os.path.join(name, imgName)\n",
    "            imgPath = os.path.join(dataset, path)\n",
    "            img = cv2.imread(imgPath)\n",
    "            image_augmentor(img, imgPath)\n",
    "            print (imgPath)"
   ]
  },
  {
   "cell_type": "markdown",
   "metadata": {},
   "source": [
    "Extract feature with VGG16 and VGG19, utils function."
   ]
  },
  {
   "cell_type": "code",
   "execution_count": null,
   "metadata": {
    "collapsed": true
   },
   "outputs": [],
   "source": [
    "def extractVGG16(img):\n",
    "    x = image.img_to_array(img)\n",
    "    x = np.expand_dims(x, axis=0)\n",
    "    x = preprocess_input(x)\n",
    "    return modelVGG16.predict(x).reshape((4096,1))\n",
    "\n",
    "def extractVGG19(img):\n",
    "    x = image.img_to_array(img)\n",
    "    x = np.expand_dims(x, axis=0)\n",
    "    x = preprocess_input(x)\n",
    "    return modelVGG19.predict(x).reshape((4096,1))\n",
    "\n",
    "def saveDict(obj, pathFile):\n",
    "    pickle_out = open(pathFile, \"wb\")\n",
    "    pickle.dump(obj, pickle_out)\n",
    "    pickle_out.close()\n",
    "\n",
    "def loadDict(pathFile):\n",
    "    pickle_in = open(pathFile, \"rb\")\n",
    "    return pickle.load(pickle_in)"
   ]
  },
  {
   "cell_type": "markdown",
   "metadata": {},
   "source": [
    "Prepare dataset (extract feature VGG16, VGG19) and save into dataset_vgg16.pkl, and dataset_vgg19.pkl.\n",
    "Training and evaluation with two major classifiers are SVM and KNN."
   ]
  },
  {
   "cell_type": "code",
   "execution_count": null,
   "metadata": {
    "collapsed": true
   },
   "outputs": [],
   "source": [
    "def load_img(dataset):\n",
    "    listName = os.listdir(dataset)\n",
    "    list_features = []\n",
    "    list_labels = []\n",
    "    for name in listName:\n",
    "        if name.endswith('.pkl'):\n",
    "            continue\n",
    "        imgList = os.listdir(os.path.join(dataset, name))\n",
    "        print ('This is name: ', name)\n",
    "        for imgName in imgList:\n",
    "            path = os.path.join(name, imgName)\n",
    "            imgPath = os.path.join(dataset, path)\n",
    "            img = image.load_img(imgPath, target_size=(224, 224))\n",
    "            list_labels.append(name)\n",
    "            list_features.append(extractVGG19(img))\n",
    "            print ('This is imgPath: ', imgPath)\n",
    "\n",
    "    json = {\n",
    "        'list_features': list_features,\n",
    "        'list_labels': list_labels\n",
    "    }\n",
    "    saveDict(json, 'dataset.pkl')\n",
    "\n",
    "def train_model(dataset_feature, method, title):\n",
    "    json = loadDict(dataset_feature)\n",
    "\n",
    "    X = [item.reshape(-1) for item in json['list_features']]\n",
    "    y = json['list_labels']\n",
    "\n",
    "    X_train, X_test, y_train, y_test = train_test_split(X, y, test_size=0.3, random_state=40)\n",
    "\n",
    "    if method == 'knn':\n",
    "        clf = KNeighborsClassifier(n_neighbors=3)\n",
    "        clf.fit(X_train, y_train)\n",
    "    elif method == 'svm':\n",
    "        clf = SVC(kernel='linear')\n",
    "        clf.fit(X_train, y_train) \n",
    "\n",
    "    predict_list = clf.predict(X_test)\n",
    "    target_names = set(y_test)\n",
    "\n",
    "    plot_confusion_matrix(y_test, predict_list, classes=target_names, title=title, normalize=True)    \n",
    "    print classification_report(y_test, predict_list, target_names=target_names)"
   ]
  },
  {
   "cell_type": "markdown",
   "metadata": {},
   "source": [
    "Main function for running"
   ]
  },
  {
   "cell_type": "code",
   "execution_count": null,
   "metadata": {
    "collapsed": true
   },
   "outputs": [],
   "source": [
    "if __name__ == '__main__':\n",
    "    # load_img('train')\n",
    "    train_model('dataset_vgg16.pkl', 'knn', 'VGG16-KNN')\n",
    "    train_model('dataset_vgg19.pkl', 'knn', 'VGG19-KNN')\n",
    "    train_model('dataset_vgg16.pkl', 'svm', 'VGG16-SVM')\n",
    "    train_model('dataset_vgg19.pkl', 'svm', 'VGG19-SVM')\n",
    "\n",
    "    # data_augmentation('train')\n",
    "    # image_augmentor(cv2.imread('elephant.jpg'))\n"
   ]
  },
  {
   "cell_type": "markdown",
   "metadata": {},
   "source": [
    "Output Result:"
   ]
  },
  {
   "cell_type": "code",
   "execution_count": null,
   "metadata": {
    "collapsed": true
   },
   "outputs": [],
   "source": [
    "/home/mrwen/anaconda2/envs/vision/lib/python2.7/site-packages/h5py/__init__.py:36: FutureWarning: Conversion of the second argument of issubdtype from `float` to `np.floating` is deprecated. In future, it will be treated as `np.float64 == np.dtype(float).type`.\n",
    "  from ._conv import register_converters as _register_converters\n",
    "Using TensorFlow backend.\n",
    "2019-04-20 23:04:20.833162: I tensorflow/core/platform/cpu_feature_guard.cc:137] Your CPU supports instructions that this TensorFlow binary was not compiled to use: SSE4.1 SSE4.2 AVX AVX2 FMA\n",
    "main.py:20: UserWarning: Update your `Model` call to the Keras 2 API: `Model(outputs=Tensor(\"fc..., inputs=Tensor(\"in...)`\n",
    "  modelVGG16 = Model(input=modelVGG16.input, output=modelVGG16.get_layer('fc2').output)\n",
    "main.py:23: UserWarning: Update your `Model` call to the Keras 2 API: `Model(outputs=Tensor(\"fc..., inputs=Tensor(\"in...)`\n",
    "  modelVGG19 = Model(input=modelVGG19.input, output=modelVGG19.get_layer('fc2').output)\n",
    "Normalized confusion matrix\n",
    "('TITLE: ', 'VGG16-KNN')\n",
    "/home/mrwen/anaconda2/envs/vision/lib/python2.7/site-packages/sklearn/metrics/classification.py:1135: UndefinedMetricWarning: Precision and F-score are ill-defined and being set to 0.0 in labels with no predicted samples.\n",
    "  'precision', 'predicted', average, warn_for)\n",
    "             precision    recall  f1-score   support\n",
    "\n",
    "     TAIHPT       0.25      1.00      0.40         3\n",
    "     NHANTH       0.11      0.50      0.17         4\n",
    "      TANPV       0.60      0.50      0.55         6\n",
    "      DUYNN       0.20      0.25      0.22         4\n",
    "       MYNH       0.00      0.00      0.00         2\n",
    "      HANTQ       0.00      0.00      0.00         1\n",
    "       TULG       1.00      0.57      0.73         7\n",
    "       HOBV       0.00      0.00      0.00         4\n",
    "     MINHHA       0.67      0.40      0.50         5\n",
    "      ANHLT       0.00      0.00      0.00         6\n",
    "       VULQ       0.50      1.00      0.67         1\n",
    "    THAODNT       1.00      0.33      0.50         3\n",
    "    DUYETLV       1.00      0.17      0.29         6\n",
    "     QUANVM       0.00      0.00      0.00         1\n",
    "    CUONGNT       1.00      0.25      0.40         4\n",
    "     HOAISD       1.00      0.33      0.50        12\n",
    "       VUND       0.00      0.00      0.00         3\n",
    "      LOCTH       0.40      0.57      0.47         7\n",
    "      TANTD       0.20      0.33      0.25         3\n",
    "     HUNGNV       0.00      0.00      0.00         2\n",
    "\n",
    "avg / total       0.53      0.33      0.35        84\n",
    "\n",
    "Normalized confusion matrix\n",
    "('TITLE: ', 'VGG19-KNN')\n",
    "             precision    recall  f1-score   support\n",
    "\n",
    "     TAIHPT       0.33      0.67      0.44         3\n",
    "     NHANTH       0.00      0.00      0.00         4\n",
    "      TANPV       1.00      0.67      0.80         6\n",
    "      DUYNN       0.25      0.50      0.33         4\n",
    "       MYNH       0.00      0.00      0.00         2\n",
    "      HANTQ       0.00      0.00      0.00         1\n",
    "       TULG       0.80      0.57      0.67         7\n",
    "       HOBV       1.00      0.25      0.40         4\n",
    "     MINHHA       0.50      0.20      0.29         5\n",
    "      ANHLT       0.12      0.17      0.14         6\n",
    "       VULQ       0.25      1.00      0.40         1\n",
    "    THAODNT       1.00      0.33      0.50         3\n",
    "    DUYETLV       0.50      0.17      0.25         6\n",
    "     QUANVM       0.00      0.00      0.00         1\n",
    "    CUONGNT       0.00      0.00      0.00         4\n",
    "     HOAISD       1.00      0.33      0.50        12\n",
    "       VUND       0.00      0.00      0.00         3\n",
    "      LOCTH       0.50      0.57      0.53         7\n",
    "      TANTD       0.20      0.33      0.25         3\n",
    "     HUNGNV       1.00      0.50      0.67         2\n",
    "\n",
    "avg / total       0.54      0.33      0.37        84\n",
    "\n",
    "Normalized confusion matrix\n",
    "('TITLE: ', 'VGG16-SVM')\n",
    "             precision    recall  f1-score   support\n",
    "\n",
    "     TAIHPT       0.50      1.00      0.67         3\n",
    "     NHANTH       0.38      0.75      0.50         4\n",
    "      TANPV       0.71      0.83      0.77         6\n",
    "      DUYNN       1.00      0.75      0.86         4\n",
    "       MYNH       0.00      0.00      0.00         2\n",
    "      HANTQ       0.00      0.00      0.00         1\n",
    "       TULG       1.00      1.00      1.00         7\n",
    "       HOBV       0.50      0.50      0.50         4\n",
    "     MINHHA       1.00      0.60      0.75         5\n",
    "      ANHLT       0.56      0.83      0.67         6\n",
    "       VULQ       1.00      1.00      1.00         1\n",
    "    THAODNT       0.00      0.00      0.00         3\n",
    "    DUYETLV       1.00      0.83      0.91         6\n",
    "     QUANVM       0.50      1.00      0.67         1\n",
    "    CUONGNT       1.00      0.25      0.40         4\n",
    "     HOAISD       1.00      0.67      0.80        12\n",
    "       VUND       0.00      0.00      0.00         3\n",
    "      LOCTH       0.70      1.00      0.82         7\n",
    "      TANTD       0.22      0.67      0.33         3\n",
    "     HUNGNV       1.00      0.50      0.67         2\n",
    "\n",
    "avg / total       0.71      0.68      0.66        84\n",
    "\n",
    "/home/mrwen/Desktop/jupyter/master_cv/face-recognition-mini-challenge/confusion_matrix.py:28: RuntimeWarning: invalid value encountered in divide\n",
    "  cm = cm.astype('float') / cm.sum(axis=1)[:, np.newaxis]\n",
    "Normalized confusion matrix\n",
    "/home/mrwen/anaconda2/envs/vision/lib/python2.7/site-packages/numpy/core/_methods.py:26: RuntimeWarning: invalid value encountered in reduce\n",
    "  return umr_maximum(a, axis, None, out, keepdims)\n",
    "('TITLE: ', 'VGG19-SVM')\n",
    "/home/mrwen/anaconda2/envs/vision/lib/python2.7/site-packages/sklearn/metrics/classification.py:1428: UserWarning: labels size, 21, does not match size of target_names, 20\n",
    "  .format(len(labels), len(target_names))\n",
    "/home/mrwen/anaconda2/envs/vision/lib/python2.7/site-packages/sklearn/metrics/classification.py:1137: UndefinedMetricWarning: Recall and F-score are ill-defined and being set to 0.0 in labels with no true samples.\n",
    "  'recall', 'true', average, warn_for)\n",
    "             precision    recall  f1-score   support\n",
    "\n",
    "     TAIHPT       1.00      0.67      0.80         3\n",
    "     NHANTH       0.43      0.75      0.55         4\n",
    "      TANPV       0.86      1.00      0.92         6\n",
    "      DUYNN       0.50      0.50      0.50         4\n",
    "       MYNH       0.00      0.00      0.00         2\n",
    "      HANTQ       0.00      0.00      0.00         1\n",
    "       TULG       1.00      1.00      1.00         7\n",
    "       HOBV       0.75      0.75      0.75         4\n",
    "     MINHHA       0.75      0.60      0.67         5\n",
    "      ANHLT       0.62      0.83      0.71         6\n",
    "       VULQ       1.00      1.00      1.00         1\n",
    "    THAODNT       1.00      0.33      0.50         3\n",
    "    DUYETLV       1.00      0.67      0.80         6\n",
    "     QUANVM       1.00      1.00      1.00         1\n",
    "    CUONGNT       1.00      0.50      0.67         4\n",
    "     HOAISD       1.00      0.67      0.80        12\n",
    "       VUND       0.00      0.00      0.00         3\n",
    "      LOCTH       0.00      0.00      0.00         0\n",
    "      TANTD       0.70      1.00      0.82         7\n",
    "     HUNGNV       0.11      0.33      0.17         3\n",
    "\n",
    "avg / total       0.76      0.68      0.69        84\n"
   ]
  },
  {
   "cell_type": "code",
   "execution_count": null,
   "metadata": {
    "collapsed": true
   },
   "outputs": [],
   "source": []
  },
  {
   "cell_type": "markdown",
   "metadata": {},
   "source": [
    "# 4. Nhận Xét & Đánh Giá\n",
    "\n",
    "# Confusion Matrix with method KNN (VGG16, VGG19)\n",
    "\n",
    "<table>\n",
    "<tr>\n",
    "  <td> <img src=\"VGG16-KNN.png\" alt=\"Drawing\" style=\"width: 100%;\"/> </td>\n",
    "  <td> <img src=\"VGG19-KNN.png\" alt=\"Drawing\" style=\"width: 100%;\"/> </td>\n",
    "</tr>\n",
    "</table>\n",
    "\n",
    "\n",
    "# Confusion Matrix with method SVM (VGG16, VGG19)\n",
    "<table>\n",
    "<tr>\n",
    "  <td> <img src=\"VGG16-SVM.png\" alt=\"Drawing\" style=\"width: 100%;\"/> </td>\n",
    "  <td> <img src=\"VGG19-SVM.png\" alt=\"Drawing\" style=\"width: 100%;\"/> </td>\n",
    "</tr>\n",
    "</table>\n"
   ]
  },
  {
   "cell_type": "markdown",
   "metadata": {},
   "source": [
    "# 5. Tổng kết"
   ]
  }
 ],
 "metadata": {
  "kernelspec": {
   "display_name": "Python 2",
   "language": "python",
   "name": "python2"
  },
  "language_info": {
   "codemirror_mode": {
    "name": "ipython",
    "version": 2
   },
   "file_extension": ".py",
   "mimetype": "text/x-python",
   "name": "python",
   "nbconvert_exporter": "python",
   "pygments_lexer": "ipython2",
   "version": "2.7.16"
  }
 },
 "nbformat": 4,
 "nbformat_minor": 2
}
